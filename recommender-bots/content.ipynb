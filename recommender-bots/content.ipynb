{
 "cells": [
  {
   "cell_type": "code",
   "execution_count": 14,
   "metadata": {},
   "outputs": [],
   "source": [
    "import numpy as np\n",
    "from numpy import linalg\n",
    "import matplotlib.pyplot as plt\n",
    "import matplotlib.pyplot as plt\n",
    "from sklearn.feature_extraction.text import TfidfVectorizer\n",
    "from sklearn.metrics.pairwise import cosine_similarity\n",
    "from sklearn.decomposition import LatentDirichletAllocation\n",
    "from sklearn.decomposition import TruncatedSVD # TruncatedSVD\n",
    "import pandas as pd\n",
    "import sqlite3\n",
    "\n",
    "from scipy.spatial.distance import cdist\n"
   ]
  },
  {
   "cell_type": "code",
   "execution_count": 15,
   "metadata": {},
   "outputs": [],
   "source": [
    "cnx = sqlite3.connect('../web-scraping/news-db.sqlite')\n"
   ]
  },
  {
   "cell_type": "code",
   "execution_count": 18,
   "metadata": {},
   "outputs": [],
   "source": [
    "corpus = np.array(pd.read_sql_query(\"SELECT * FROM articles_processed \", cnx).content)\n",
    "corpus = LSA(corpus, 25)"
   ]
  },
  {
   "cell_type": "code",
   "execution_count": 81,
   "metadata": {},
   "outputs": [],
   "source": [
    "def TF_IDF(corpus):\n",
    "    vectorizer=TfidfVectorizer(max_features=1000)\n",
    "    vectors = vectorizer.fit_transform(corpus)\n",
    "    return vectors\n",
    "\n",
    "def LSA(corpus, num_topics):\n",
    "    vectorized_corpus = TF_IDF(corpus)\n",
    "    sv_dec_lsa = TruncatedSVD(n_components = num_topics, algorithm='randomized')\n",
    "    lsa_mat = sv_dec_lsa.fit_transform(vectorized_corpus)\n",
    "    return lsa_mat                   \n",
    "\n",
    "def generate_user(user_id, n_hist):\n",
    "    pass \n",
    "\n",
    "def get_user_vector(docs, weights = -1):\n",
    "    if(weights == -1): weights = np.ones(len(docs))\n",
    "    return np.dot(docs, weights)/np.sum(weights)\n",
    "\n",
    "# corpus - list of topic-vectorized documents, user - weighted average of topic-vectorized docs, N - number of recommendations\n",
    "def content_based_recommend(corpus, user, N):\n",
    "    cosines = 1 - cdist(user, corpus)[0]\n",
    "    nearest_indices = np.argpartition(cosines, -N)[-N:]\n",
    "    return nearest_indices[np.argsort(cosines[nearest_indices])]"
   ]
  },
  {
   "cell_type": "code",
   "execution_count": 82,
   "metadata": {},
   "outputs": [],
   "source": [
    "user = np.ones((1, 25))"
   ]
  },
  {
   "cell_type": "code",
   "execution_count": 84,
   "metadata": {},
   "outputs": [
    {
     "data": {
      "text/plain": [
       "array([297, 212, 359], dtype=int64)"
      ]
     },
     "execution_count": 84,
     "metadata": {},
     "output_type": "execute_result"
    }
   ],
   "source": [
    "x"
   ]
  },
  {
   "cell_type": "code",
   "execution_count": null,
   "metadata": {},
   "outputs": [],
   "source": []
  }
 ],
 "metadata": {
  "interpreter": {
   "hash": "b3ba2566441a7c06988d0923437866b63cedc61552a5af99d1f4fb67d367b25f"
  },
  "kernelspec": {
   "display_name": "Python 3.9.7 ('base')",
   "language": "python",
   "name": "python3"
  },
  "language_info": {
   "codemirror_mode": {
    "name": "ipython",
    "version": 3
   },
   "file_extension": ".py",
   "mimetype": "text/x-python",
   "name": "python",
   "nbconvert_exporter": "python",
   "pygments_lexer": "ipython3",
   "version": "3.9.7"
  },
  "orig_nbformat": 4
 },
 "nbformat": 4,
 "nbformat_minor": 2
}
