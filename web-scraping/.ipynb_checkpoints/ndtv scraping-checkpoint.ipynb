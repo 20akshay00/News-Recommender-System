{
 "cells": [
  {
   "cell_type": "code",
   "execution_count": 89,
   "metadata": {},
   "outputs": [],
   "source": [
    "import urllib.request, sys, time\n",
    "from bs4 import BeautifulSoup\n",
    "import requests\n",
    "import pandas as pd\n"
   ]
  },
  {
   "cell_type": "code",
   "execution_count": 88,
   "metadata": {},
   "outputs": [],
   "source": [
    "def scrape_from_page(url):\n",
    "    page = requests.get(url)\n",
    "    soup = BeautifulSoup(page.content, \"html.parser\")\n",
    "\n",
    "    title = soup.find(\"h1\", class_ = \"sp-ttl\").get_text()\n",
    "    date = soup.find(\"span\", {'itemprop':'dateModified'}).attrs['content'][:10]\n",
    "    summary = soup.find(\"h2\", class_ = \"sp-descp\").get_text()\n",
    "    content = \"\".join([elt.text for elt in soup.find_all(\"p\")])[:-307]\n",
    "\n",
    "    return [title, date, url, summary, content]"
   ]
  },
  {
   "cell_type": "code",
   "execution_count": 81,
   "metadata": {},
   "outputs": [],
   "source": [
    "def get_topic_pages(page):\n",
    "    soup = BeautifulSoup(page.content, \"html.parser\")\n",
    "    urls = list(set([elt.find(\"a\")[\"href\"] for elt in soup.find_all(\"div\", class_='news_Itm-cont')]))\n",
    "    return(urls)"
   ]
  },
  {
   "cell_type": "code",
   "execution_count": 85,
   "metadata": {},
   "outputs": [],
   "source": [
    "def scrape(page_no, category, subcategory):\n",
    "    URL = \"https://www.ndtv.com/\" + category + \"/\" + subcategory + \"/\" + \"page-\" + str(page_no)\n",
    "    url_list = get_topic_pages(requests.get(URL))\n",
    "    sleep(random.uniform(2, 3))\n",
    "\n",
    "    data = []\n",
    "\n",
    "    for url in url_list:\n",
    "        data.append(scrape_from_page(url))\n",
    "        sleep(random.uniform(2, 3))\n",
    "\n",
    "    return data"
   ]
  },
  {
   "cell_type": "code",
   "execution_count": 86,
   "metadata": {},
   "outputs": [],
   "source": [
    "def scrape_loop(start_pg, end_pg, category, subcategory):\n",
    "    data = []\n",
    "    for pg in range(start_pg, end_pg):\n",
    "        data += scrape(pg, category, subcategory)\n",
    "        \n",
    "    return data"
   ]
  },
  {
   "cell_type": "code",
   "execution_count": null,
   "metadata": {},
   "outputs": [],
   "source": []
  }
 ],
 "metadata": {
  "kernelspec": {
   "display_name": "Python 3 (ipykernel)",
   "language": "python",
   "name": "python3"
  },
  "language_info": {
   "codemirror_mode": {
    "name": "ipython",
    "version": 3
   },
   "file_extension": ".py",
   "mimetype": "text/x-python",
   "name": "python",
   "nbconvert_exporter": "python",
   "pygments_lexer": "ipython3",
   "version": "3.9.7"
  }
 },
 "nbformat": 4,
 "nbformat_minor": 4
}
