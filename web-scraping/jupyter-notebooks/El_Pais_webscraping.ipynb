{
 "cells": [
  {
   "cell_type": "code",
   "execution_count": 7,
   "metadata": {
    "id": "Sz8txTtRYtGz"
   },
   "outputs": [
    {
     "name": "stdout",
     "output_type": "stream",
     "text": [
      "env: https_proxy=http://172.16.2.250:3128\n"
     ]
    }
   ],
   "source": [
    "from bs4 import BeautifulSoup\n",
    "import requests\n",
    "import random\n",
    "from time import sleep\n",
    "\n",
    "%env https_proxy=http://172.16.2.250:3128"
   ]
  },
  {
   "cell_type": "code",
   "execution_count": 24,
   "metadata": {},
   "outputs": [],
   "source": [
    "def scrape_from_page(url):\n",
    "    page = requests.get(url)\n",
    "    soup = BeautifulSoup(page.content, \"html.parser\")\n",
    "\n",
    "    if(soup.find(\"h1\", class_ = \"a_t\") is None): return []\n",
    "\n",
    "    title = soup.find(\"h1\", class_ = \"a_t\").get_text()\n",
    "    date = soup.find(\"a\", id = \"article_date_p\").attrs['data-date'][:10]\n",
    "\n",
    "    summary = soup.find(\"h2\", class_ = \"a_st\").get_text()\n",
    "    content = \"\".join([elt.text for elt in soup.find_all(\"p\")])[:-62]\n",
    "\n",
    "    return [title, date, url, summary, content]"
   ]
  },
  {
   "cell_type": "code",
   "execution_count": 13,
   "metadata": {
    "id": "O-sNcQnOY8dV"
   },
   "outputs": [],
   "source": [
    "def get_topic_pages(page):\n",
    "  soup = BeautifulSoup(page.content, \"html.parser\")\n",
    "  urls_1 = list(set([elt.find(\"a\")[\"href\"] for elt in soup.find_all(\"article\", class_='c c-d c--m')]))\n",
    "  urls_2 = list(set([elt.find(\"a\")[\"href\"] for elt in soup.find_all(\"article\", class_='c c-o c-d c--m')]))\n",
    "  urls_incomplete = urls_1 + urls_2\n",
    "  urls = [('https://english.elpais.com' + urls_incomplete[i]) for i in range(len(urls_incomplete))]\n",
    "  return urls"
   ]
  },
  {
   "cell_type": "code",
   "execution_count": 25,
   "metadata": {
    "id": "1zwgV_ehZGDl"
   },
   "outputs": [],
   "source": [
    "def scrape(page_no, topic):\n",
    "  URL = f\"https://english.elpais.com/{topic}/{str(page_no)}\"\n",
    "  url_list = get_topic_pages(requests.get(URL))\n",
    "  sleep(1)\n",
    "\n",
    "  data = []\n",
    "\n",
    "  for url in url_list:\n",
    "    if (scrape_from_page(url)):\n",
    "      data.append(scrape_from_page(url))\n",
    "      sleep(1)\n",
    "\n",
    "  return data"
   ]
  },
  {
   "cell_type": "code",
   "execution_count": 26,
   "metadata": {
    "id": "jhOlWjVGZPzN"
   },
   "outputs": [],
   "source": [
    "def scrape_loop(start_pg, end_pg, topic):\n",
    "    data = []\n",
    "    for pg in range(start_pg, end_pg):\n",
    "        data += scrape(pg, topic)\n",
    "        \n",
    "    return data"
   ]
  },
  {
   "cell_type": "code",
   "execution_count": 27,
   "metadata": {
    "id": "Wqlj3vQ3ZT4y"
   },
   "outputs": [],
   "source": [
    "dt = scrape_loop(1, 2, \"sports\")"
   ]
  },
  {
   "cell_type": "code",
   "execution_count": null,
   "metadata": {},
   "outputs": [],
   "source": [
    "  url = \"https://english.elpais.com/{topic}/{str(page_no)}\"\n",
    "  page = requests.get(url)\n",
    "  soup = BeautifulSoup(page.content, \"html.parser\")"
   ]
  }
 ],
 "metadata": {
  "colab": {
   "name": "El_Pais_webscraping",
   "provenance": []
  },
  "kernelspec": {
   "display_name": "Python 3 (ipykernel)",
   "language": "python",
   "name": "python3"
  },
  "language_info": {
   "codemirror_mode": {
    "name": "ipython",
    "version": 3
   },
   "file_extension": ".py",
   "mimetype": "text/x-python",
   "name": "python",
   "nbconvert_exporter": "python",
   "pygments_lexer": "ipython3",
   "version": "3.9.7"
  }
 },
 "nbformat": 4,
 "nbformat_minor": 1
}
