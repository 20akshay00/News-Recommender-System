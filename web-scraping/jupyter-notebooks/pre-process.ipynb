{
 "cells": [
  {
   "cell_type": "code",
   "execution_count": 1,
   "metadata": {},
   "outputs": [
    {
     "name": "stdout",
     "output_type": "stream",
     "text": [
      "env: https_proxy=\n"
     ]
    },
    {
     "name": "stderr",
     "output_type": "stream",
     "text": [
      "[nltk_data] Downloading package wordnet to\n",
      "[nltk_data]     C:\\Users\\saksh\\AppData\\Roaming\\nltk_data...\n",
      "[nltk_data]   Package wordnet is already up-to-date!\n",
      "[nltk_data] Downloading package stopwords to\n",
      "[nltk_data]     C:\\Users\\saksh\\AppData\\Roaming\\nltk_data...\n",
      "[nltk_data]   Package stopwords is already up-to-date!\n"
     ]
    }
   ],
   "source": [
    "%env https_proxy=\n",
    "import sqlite3\n",
    "import pandas as pd\n",
    "import nltk\n",
    "from nltk.corpus import stopwords\n",
    "# remove punctuation\n",
    "import string \n",
    "stop_words = set(stopwords.words(\"english\"))\n",
    "import re\n",
    "\n",
    "nltk.download('wordnet')\n",
    "nltk.download('stopwords')\n",
    "from nltk.stem import WordNetLemmatizer \n",
    "\n",
    "# import spacy\n",
    "# nlp = spacy.load('en_core_web_lg')"
   ]
  },
  {
   "cell_type": "code",
   "execution_count": 2,
   "metadata": {},
   "outputs": [],
   "source": [
    "db_in_name = \"news-db.sqlite\"\n",
    "tb_name = \"articles\""
   ]
  },
  {
   "cell_type": "code",
   "execution_count": 3,
   "metadata": {},
   "outputs": [],
   "source": [
    "conn = sqlite3.connect(db_in_name)"
   ]
  },
  {
   "cell_type": "code",
   "execution_count": 4,
   "metadata": {},
   "outputs": [],
   "source": [
    "df = pd.read_sql_query(\"SELECT * FROM articles\", conn)\n",
    "conn.close()"
   ]
  },
  {
   "cell_type": "code",
   "execution_count": 17,
   "metadata": {},
   "outputs": [],
   "source": [
    "def clean_up(txt):\n",
    "    txt_clean = re.sub(\"English version.*\", \" \", txt)\n",
    "    txt_without_stop_words = \" \".join([word for word in txt_clean.lower().split() if word not in stop_words])\n",
    "    txt_without_punct = \"\".join([ch for ch in txt_without_stop_words if ch not in set(string.punctuation)])\n",
    "    return re.sub(\" +\", \" \", re.sub(\"\\d\", \"\", re.sub(\"[^\\w\\s]\", \"\", txt_without_punct)))"
   ]
  },
  {
   "cell_type": "code",
   "execution_count": 6,
   "metadata": {},
   "outputs": [],
   "source": [
    "# df.to_sql(\"articles_processed\", conn, if_exists=\"replace\")"
   ]
  },
  {
   "cell_type": "code",
   "execution_count": 21,
   "metadata": {},
   "outputs": [
    {
     "data": {
      "text/plain": [
       "'question productivity never seriously addressed spain economy miraculously booming even country facing record levels unemployment lack public funds financial markets still prone hitting panic button need improve productivity constantly mentioned speeches articles efforts made analyze it key element competitiveness among europes worst spains businesses little idea reducing wages yet further improve it productivity important people find topic sexy says diego comín harvard business school answer given spains secretary state economy david vergara asked issue rarely discussed even though clear spanish economys biggest problem even beyond property crash financial crisis we asked business people it explains and would say things started go well again low productivity stop growing something different happening spain compared developed economies productivity figures improve periods decline is however but improvement comes due destruction jobs improving production processes increasing value goods produced productivity hours worked improved around two percent spain rest euro zone grew percent trend inverse previous period growth gap still remains spains euros per hour value creation long way euros rest single currency area creating efficiency creating greater value resources rather destroying task euro zones fourthlargest economy still tackle variable known total factor productivity tfp rely increasing work hours physical capital although numbers change depending methodology given means adding heterogeneous concepts trend obstinate even worsened boom years productivity shrank percent average according calculations economists juan josé dolado samuel bentolilla valencian institute economic research ivie says productivity fell slightly recovering largely driven fall hours worked improved competitiveness based three things exchange rate salaries productivity spain cannot anything first neither would help much anyway everything produces sold within eu salaries also cut policy solves nothing long term meaning biggest problem remains productivity says comín salaries fallen percent real terms since decline continues first quarter year labor costs spain fell percent rose euro zone percent overall germany percent according research department la caixa savings bank lower wages one ingredients required economy improve competitiveness ongoing needs matched improvements competitiveness depend price better products efficient production processes says la caixa report spanish competitiveness earlier year compiled consultants pwc behalf german electronics giant siemens contains message salary costs per employee significantly lower spain member core eu says but expensive comparison asia eastern europe labor costs always factor competitiveness pwc says not differential spain use competitive advantage becoming industrial location countries advice spain given two decades ago berlin wall came down country needed move toward creating economy based skills less dependent low wages since then india china emerged major economic powers dominance built large part low wages meantime property bubble country midst worst recession decades whats more sign new productive model anywhere horizon talk create it instead country still getting excited projects eurovegas casino madrid spain continues perform even worse terms creating added value spains low productivity large part explained dominant role construction services spanish economy factor says pwc spain low productivity underinvested rd holds back competitiveness overcoming would add two percentage points gdp investment new machinery fallen percent percent sectors economy spanish industry invests average percent value production rd eus core figure percent salaries never real reason low productivity says comín oecd says purchasing power average wage earner fell four percent spain economist césar molinas highlights key role internal devaluation along lines german economy labor costs germany fallen significantly inequality increased country also needs better physical human capital make things says the root problem productivity lack entrepreneurship although changing crisis adds germany economy shrank five percent little impact unemployment result largely productive fabric less dependent intensive labor practices this even creating new technologies countries able that says comín needed rapidly adopt new technologies improve productivity quality really sets wealthy countries apart adds the problem lack human capital trained work new technologies well enough sophisticated small mediumsized companies spain also failed take advantage vast accumulation capital took place boom years study ivie spanish lender bbva shows accumulation capital spains economy grew rapidly years levels four percent years said report warns need improve productivity capital changing composition avoid current infrautilization jordi gual la caixas chief economist adds investment rd higher education but evidence shows investment effort improved relation rest eu borne fruit way explain overall reverse gual continues public sector institutions particular taken decisions produced little fact often leading great efforts produced little time come think implementing major changes government would help better channel countrys efforts improve education rd infrastructure spain country people want talk productivity earlier year davos forum raised issue part global ranking competitiveness warning in europe efforts resolve problem public debt avoid collapse euro zone diverted attention away issue competitiveness economies western europe continue efforts improve efficiency markets well pushing ahead innovation improving financing davos also highlighted growing divergence european nations regards competitiveness refers significant differences several countries significantly lower ranking among spain places th italy portugal greece came th st st respectively brussels also warned spain reduced role industry gdp fallen four percentage points last years said spains exports record levels phenomenon seemingly contradicts bad news emerging competitiveness reality huge breach big companies invest innovation found overseas markets small medium enterprises smes cases face serious challenges figures rd spending show clearly noticed pascual deidospleite head siemens industrial division the problem competitiveness lies smes explains but spain competitive industrial sector innovative food sector example auto manufacturing europes secondlargest maker vehicles spain may good making cars problem none car makers spanish companies another problem exports used make fastshrinking domestic market companies making huge effort export mainly cannot sell cars spain phenomenon become known deportation rather exportation cars sold abroad sometimes cost prices simply reduce losses says césar molinas side says knowledge acquired crisis exports valuable depression lifts the ability country remain competitive long term beyond matching salary growth improvements productivity based largely efficient accumulation capital economy human physical technological infrastructure spain deficits human technological capital challenge faces continuing reforms investors businesses incentive accumulate capital focusing specialization technology end day means invest efficiently says gual discussion problem spains limited competiveness always ends place education need improved training skills development adapted needs economy problem right now growing numbers engineers scientists leaving work abroad failed find job spain vicious circle along productivity competitiveness training skills development exactly among sexiest topics either gdp shrunk spain recent years productivity risen unfortunately destruction jobs efficiency increased productive fabric survived better quality tradeoff reduce size economy use fewer resources increased productivity required economy far enjoying full employment want work based installed capital achieved means short term channeling increased demand order take advantage installed capacity medium term increasing added value resource unit used spanish companies margin value generation improved significant shown productivity differences within existing industrial fabric doubtless macroeconomic elements along difficult environment need taken account low levels productivity many companies begin approaching others sector average would increase substantially result part improvement conditioned characteristics companies make difficult increase added value per unit work capital invested empirical evidence shows one obstacle way improving productivity many sectors extremely limited specialization products activities market prepared pay high prices for world increasingly fragmented supply chains problem much specialization industry services frontiers sectors ever hazier key specialize sectors demand strong whether tertiary manufacturing participate tasks generate greater added value requires ability manage complex technological environments example something difficult without access knowledge efficient spanish groups stand sufficient size necessarily large rarely small employ lot human capital information communications technology ict well extremely professional managers use modern management models levers used increase value innovate presence dynamic markets wherever are shortage resources spain companies vary greatly extent take advantage them use least need look argument lays blame problems state spanish economy ask companies responded circumstances differently economies heterogeneous average level productivity depends many factors spain productive business structure shown extreme competitiveness many companies here particular leaders sectors efficient companies less influence economy should objective increase productivity growth extend best practices companies means shown bring good results francisco pérez professor university valencia head research department valencian institute economic research ivie'"
      ]
     },
     "execution_count": 21,
     "metadata": {},
     "output_type": "execute_result"
    }
   ],
   "source": [
    "l = len(df[\"content\"][3839])\n",
    "clean_up(df[\"content\"][4947])"
   ]
  },
  {
   "cell_type": "code",
   "execution_count": 9,
   "metadata": {},
   "outputs": [
    {
     "data": {
      "text/plain": [
       "indian space research organis isro ha sinc launch total satellit indian origin foreign satellit countri satellit commerci satellit rest nano satellit parliament inform thursday india total oper satellit space provid various identifi servic nation total communic satellit eight navig satellit earth observ satellit three scienc satellit union minist state space dr jitendra singh told rajya sabha written repli two differ question total custom satellit foreign countri success launch onboard pslv commerci basi number foreign satellit launch yearwis said satellit enabl data servic use benefit various sector countri includ televis broadcast directtohom atm mobil communic teleeduc telemedicin advisori weather pest infest agrometeorolog potenti fish zone satellit data also use crop product estim crop intensif agricultur drought assess wasteland inventori identifi ground water prospect zone inland aquacultur suitabl disast risk reduct said isro plan launch satellit enhanc oper applic cater need emerg applic user requir countri minist ad mani applic effect adopt stakehold depart oper use applic includ potenti fish zone forecast ocean state forecast indian nation centr ocean inform servic ministri earth scienc crop acreag product forecast nation agricultur drought assess monitor system mahalanobi nation crop forecast centr ministri agricultur farmer welfar biennial forest cover assess forest survey india ministri environ forest climat chang irrig infrastructur assess central water commiss ministri jal shakti weather forecast india meteorolog depart ministri earth scienc ground water prospect suitabl recharg locat map ministri jal shakti integr watersh manag programm mgnreg ministri rural develop minist also inform number spacecraft launch space centr countri till date yearwis are till date these spacecraft launch countri domest use yearwis respect countrywis breakup number foreign satellit launch minist said wa algeria australia austria belgium brazil canada chile colombia czech republ finland franc germani indonesia israel itali japan kazakhstan latvia lithuania luxembourg malaysia netherland republ korea slovakia spain switzerland uae uk u"
      ]
     },
     "execution_count": 9,
     "metadata": {},
     "output_type": "execute_result"
    }
   ],
   "source": [
    "tc.document(x).lemming().stemming()"
   ]
  },
  {
   "cell_type": "code",
   "execution_count": 8,
   "metadata": {},
   "outputs": [],
   "source": [
    "import textcleaner as tc"
   ]
  },
  {
   "cell_type": "code",
   "execution_count": 11,
   "metadata": {},
   "outputs": [
    {
     "data": {
      "text/plain": [
       "'indian space research organisation isro ha since launched total satellite indian origin foreign satellite country satellite commercial satellite rest nano satellite parliament informed thursday india total operational satellite space providing various identified service nation total communication satellite eight navigation satellite earth observation satellite three science satellite union minister state space dr jitendra singh told rajya sabha written reply two different question total customer satellite foreign country successfully launched onboard pslv commercial basis number foreign satellite launched yearwise said satellite enabled data service used benefit various sector country include television broadcasting directtohome atm mobile communication teleeducation telemedicine advisory weather pest infestation agrometeorology potential fishing zone satellite data also used crop production estimation crop intensification agricultural drought assessment wasteland inventory identifying ground water prospect zone inland aquaculture suitability disaster risk reduction said isro plan launch satellite enhance operational application cater need emerging application user requirement country minister added many application effectively adopted stakeholder department operational use application include potential fishing zone forecast ocean state forecast indian national centre ocean information service ministry earth science crop acreage production forecasting national agricultural drought assessment monitoring system mahalanobis national crop forecast centre ministry agriculture farmer welfare biennial forest cover assessment forest survey india ministry environment forest climate change irrigation infrastructure assessment central water commission ministry jal shakti weather forecasting india meteorological department ministry earth science ground water prospect suitable recharge location mapping ministry jal shakti integrated watershed management programme mgnregs ministry rural development minister also informed number spacecraft launched space centre country till date yearwise are till date these spacecraft launched country domestic use yearwise respectively countrywise breakup number foreign satellite launched minister said wa algeria australia austria belgium brazil canada chile colombia czech republic finland france germany indonesia israel italy japan kazakhstan latvia lithuania luxembourg malaysia netherlands republic korea slovakia spain switzerland uae uk u'"
      ]
     },
     "execution_count": 11,
     "metadata": {},
     "output_type": "execute_result"
    }
   ],
   "source": [
    "str(tc.document(x).lemming())"
   ]
  },
  {
   "cell_type": "code",
   "execution_count": 19,
   "metadata": {},
   "outputs": [
    {
     "data": {
      "text/plain": [
       "indian space research organisation isro has since launched total satellites indian origin foreign satellites countries satellites commercial satellites rest nano satellites parliament informed thursday india total operational satellites space providing various identified services nation total communication satellites eight navigation satellites earth observation satellites three science satellites union minister state space dr jitendra singh told rajya sabha written replies two different questions total customer satellites foreign countries successfully launched onboard pslv commercial basis number foreign satellites launched yearwise said satellite enabled data services used benefit various sectors country include television broadcasting directtohome atm mobile communication teleeducation telemedicine advisories weather pest infestation agrometeorology potential fishing zones satellite data also used crop production estimation crop intensification agricultural drought assessment wasteland inventory identifying ground water prospect zones inland aquaculture suitability disaster risk reduction said isro plans launch satellites enhance operational applications cater needs emerging applications user requirements country minister added many applications effectively adopted stakeholder departments operational use applications include potential fishing zone forecast ocean state forecast indian national centre ocean information services ministry earth sciences crop acreage production forecasting national agricultural drought assessment monitoring system mahalanobis national crop forecast centre ministry agriculture farmers welfare biennial forest cover assessment forest survey india ministry environment forest climate change irrigation infrastructure assessment central water commission ministry jal shakti weather forecasting india meteorological department ministry earth science ground water prospect suitable recharge locations mapping ministry jal shakti integrated watershed management programme mgnregs ministry rural development minister also informed number spacecrafts launched space centres country till date yearwise are till date these spacecraft launched country domestic use yearwise respectively countrywise breakup number foreign satellites launched minister said was algeria australia austria belgium brazil canada chile colombia czech republic finland france germany indonesia israel italy japan kazakhstan latvia lithuania luxembourg malaysia netherlands republic korea slovakia spain switzerland uae uk us "
      ]
     },
     "execution_count": 19,
     "metadata": {},
     "output_type": "execute_result"
    }
   ],
   "source": [
    "tc.document(x)"
   ]
  },
  {
   "cell_type": "code",
   "execution_count": null,
   "metadata": {},
   "outputs": [],
   "source": []
  }
 ],
 "metadata": {
  "interpreter": {
   "hash": "b3ba2566441a7c06988d0923437866b63cedc61552a5af99d1f4fb67d367b25f"
  },
  "kernelspec": {
   "display_name": "Python 3.9.7 ('base')",
   "language": "python",
   "name": "python3"
  },
  "language_info": {
   "codemirror_mode": {
    "name": "ipython",
    "version": 3
   },
   "file_extension": ".py",
   "mimetype": "text/x-python",
   "name": "python",
   "nbconvert_exporter": "python",
   "pygments_lexer": "ipython3",
   "version": "3.9.7"
  },
  "orig_nbformat": 4
 },
 "nbformat": 4,
 "nbformat_minor": 2
}
