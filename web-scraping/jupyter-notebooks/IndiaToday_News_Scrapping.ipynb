{
 "cells": [
  {
   "cell_type": "markdown",
   "id": "2d59de33",
   "metadata": {},
   "source": [
    "<font size=\"4\">\n",
    "  \n",
    "    \n",
    "    Based on their site, the only categories we can use are \n",
    "    \n",
    "    1) india\n",
    "    2) business\n",
    "    3) world\n",
    "    \n",
    " "
   ]
  },
  {
   "cell_type": "code",
   "execution_count": 44,
   "id": "1af8403b",
   "metadata": {},
   "outputs": [],
   "source": [
    "from bs4 import BeautifulSoup\n",
    "from time import sleep\n",
    "import requests, os, sqlite3\n",
    "from datetime import datetime"
   ]
  },
  {
   "cell_type": "code",
   "execution_count": 2,
   "id": "04411819",
   "metadata": {},
   "outputs": [
    {
     "name": "stdout",
     "output_type": "stream",
     "text": [
      "env: https_proxy=http://172.16.2.250:3128\n"
     ]
    }
   ],
   "source": [
    "%env https_proxy=http://172.16.2.250:3128"
   ]
  },
  {
   "cell_type": "code",
   "execution_count": 73,
   "id": "93b4785e",
   "metadata": {},
   "outputs": [],
   "source": [
    "def scrape_from_page(url, category):\n",
    "    page = requests.get(url)\n",
    "    soup = BeautifulSoup(page.content, \"html.parser\")\n",
    "    if(soup.find(\"h1\", itemprop = \"headline\") is None): return []\n",
    "\n",
    "    title = soup.find(\"h1\", itemprop = \"headline\").get_text()\n",
    "    date = datetime.strftime(datetime.strptime(soup.find(\"dt\", class_ = \"pubdata\").get_text(), '%B %d, %Y'), \"%Y-%m-%d\")\n",
    "    summary = soup.find(\"h2\").get_text()\n",
    "    content = \" \".join([elt.get_text() for elt in soup.find(\"div\", {\"class\" : \"story-section\"}).find_all(\"p\")])\n",
    "\n",
    "    return [title, date, url, category, summary, content]"
   ]
  },
  {
   "cell_type": "code",
   "execution_count": 74,
   "id": "7d61b7e8",
   "metadata": {},
   "outputs": [],
   "source": [
    "def get_topic_pages(page):\n",
    "    soup = BeautifulSoup(page.content, \"html.parser\")\n",
    "    return [\"https://www.indiatoday.in\" + elt.find(\"a\")[\"href\"] for elt in soup.find_all(\"div\", {\"class\" : \"catagory-listing\"})]"
   ]
  },
  {
   "cell_type": "code",
   "execution_count": 75,
   "id": "59bb91bb",
   "metadata": {},
   "outputs": [],
   "source": [
    "def scrape(page_no, topic):\n",
    "    URL = f\"https://www.indiatoday.in/{topic}?page={page_no}\"\n",
    "    url_list = get_topic_pages(requests.get(URL))\n",
    "    sleep(1)\n",
    "\n",
    "    data = []\n",
    "\n",
    "    for url in url_list:\n",
    "        dt = scrape_from_page(url, topic)\n",
    "        if (dt):\n",
    "            data.append(dt)\n",
    "            sleep(1)\n",
    "\n",
    "    return data"
   ]
  },
  {
   "cell_type": "code",
   "execution_count": 76,
   "id": "741b1a7d",
   "metadata": {},
   "outputs": [],
   "source": [
    "def scrape_loop(start_pg, end_pg, topic, alert = False):\n",
    "    data = []\n",
    "    for pg in range(start_pg, end_pg):\n",
    "        if(alert): print(f\"Scraping page {pg}...\\n\")\n",
    "        data += scrape(pg, topic)\n",
    "        \n",
    "    return data"
   ]
  },
  {
   "cell_type": "code",
   "execution_count": 77,
   "id": "35988425",
   "metadata": {},
   "outputs": [
    {
     "name": "stdout",
     "output_type": "stream",
     "text": [
      "Scraping page 2...\n",
      "\n"
     ]
    },
    {
     "ename": "KeyboardInterrupt",
     "evalue": "",
     "output_type": "error",
     "traceback": [
      "\u001b[1;31m---------------------------------------------------------------------------\u001b[0m",
      "\u001b[1;31mKeyboardInterrupt\u001b[0m                         Traceback (most recent call last)",
      "\u001b[1;32m~\\AppData\\Local\\Temp/ipykernel_18256/3594227581.py\u001b[0m in \u001b[0;36m<module>\u001b[1;34m\u001b[0m\n\u001b[1;32m----> 1\u001b[1;33m \u001b[0mscrape_loop\u001b[0m\u001b[1;33m(\u001b[0m\u001b[1;36m2\u001b[0m\u001b[1;33m,\u001b[0m \u001b[1;36m3\u001b[0m\u001b[1;33m,\u001b[0m \u001b[1;34m\"science\"\u001b[0m\u001b[1;33m,\u001b[0m \u001b[1;32mTrue\u001b[0m\u001b[1;33m)\u001b[0m\u001b[1;33m\u001b[0m\u001b[1;33m\u001b[0m\u001b[0m\n\u001b[0m",
      "\u001b[1;32m~\\AppData\\Local\\Temp/ipykernel_18256/2630923290.py\u001b[0m in \u001b[0;36mscrape_loop\u001b[1;34m(start_pg, end_pg, topic, alert)\u001b[0m\n\u001b[0;32m      3\u001b[0m     \u001b[1;32mfor\u001b[0m \u001b[0mpg\u001b[0m \u001b[1;32min\u001b[0m \u001b[0mrange\u001b[0m\u001b[1;33m(\u001b[0m\u001b[0mstart_pg\u001b[0m\u001b[1;33m,\u001b[0m \u001b[0mend_pg\u001b[0m\u001b[1;33m)\u001b[0m\u001b[1;33m:\u001b[0m\u001b[1;33m\u001b[0m\u001b[1;33m\u001b[0m\u001b[0m\n\u001b[0;32m      4\u001b[0m         \u001b[1;32mif\u001b[0m\u001b[1;33m(\u001b[0m\u001b[0malert\u001b[0m\u001b[1;33m)\u001b[0m\u001b[1;33m:\u001b[0m \u001b[0mprint\u001b[0m\u001b[1;33m(\u001b[0m\u001b[1;34mf\"Scraping page {pg}...\\n\"\u001b[0m\u001b[1;33m)\u001b[0m\u001b[1;33m\u001b[0m\u001b[1;33m\u001b[0m\u001b[0m\n\u001b[1;32m----> 5\u001b[1;33m         \u001b[0mdata\u001b[0m \u001b[1;33m+=\u001b[0m \u001b[0mscrape\u001b[0m\u001b[1;33m(\u001b[0m\u001b[0mpg\u001b[0m\u001b[1;33m,\u001b[0m \u001b[0mtopic\u001b[0m\u001b[1;33m)\u001b[0m\u001b[1;33m\u001b[0m\u001b[1;33m\u001b[0m\u001b[0m\n\u001b[0m\u001b[0;32m      6\u001b[0m \u001b[1;33m\u001b[0m\u001b[0m\n\u001b[0;32m      7\u001b[0m     \u001b[1;32mreturn\u001b[0m \u001b[0mdata\u001b[0m\u001b[1;33m\u001b[0m\u001b[1;33m\u001b[0m\u001b[0m\n",
      "\u001b[1;32m~\\AppData\\Local\\Temp/ipykernel_18256/2857292899.py\u001b[0m in \u001b[0;36mscrape\u001b[1;34m(page_no, topic)\u001b[0m\n\u001b[0;32m     10\u001b[0m         \u001b[1;32mif\u001b[0m \u001b[1;33m(\u001b[0m\u001b[0mdt\u001b[0m\u001b[1;33m)\u001b[0m\u001b[1;33m:\u001b[0m\u001b[1;33m\u001b[0m\u001b[1;33m\u001b[0m\u001b[0m\n\u001b[0;32m     11\u001b[0m             \u001b[0mdata\u001b[0m\u001b[1;33m.\u001b[0m\u001b[0mappend\u001b[0m\u001b[1;33m(\u001b[0m\u001b[0mdt\u001b[0m\u001b[1;33m)\u001b[0m\u001b[1;33m\u001b[0m\u001b[1;33m\u001b[0m\u001b[0m\n\u001b[1;32m---> 12\u001b[1;33m             \u001b[0msleep\u001b[0m\u001b[1;33m(\u001b[0m\u001b[1;36m1\u001b[0m\u001b[1;33m)\u001b[0m\u001b[1;33m\u001b[0m\u001b[1;33m\u001b[0m\u001b[0m\n\u001b[0m\u001b[0;32m     13\u001b[0m \u001b[1;33m\u001b[0m\u001b[0m\n\u001b[0;32m     14\u001b[0m     \u001b[1;32mreturn\u001b[0m \u001b[0mdata\u001b[0m\u001b[1;33m\u001b[0m\u001b[1;33m\u001b[0m\u001b[0m\n",
      "\u001b[1;31mKeyboardInterrupt\u001b[0m: "
     ]
    }
   ],
   "source": [
    "scrape_loop(2, 3, \"science\", True)"
   ]
  }
 ],
 "metadata": {
  "kernelspec": {
   "display_name": "Python 3 (ipykernel)",
   "language": "python",
   "name": "python3"
  },
  "language_info": {
   "codemirror_mode": {
    "name": "ipython",
    "version": 3
   },
   "file_extension": ".py",
   "mimetype": "text/x-python",
   "name": "python",
   "nbconvert_exporter": "python",
   "pygments_lexer": "ipython3",
   "version": "3.9.7"
  }
 },
 "nbformat": 4,
 "nbformat_minor": 5
}
