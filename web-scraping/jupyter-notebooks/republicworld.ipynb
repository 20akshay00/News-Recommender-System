{
 "cells": [
  {
   "cell_type": "code",
   "execution_count": 5,
   "metadata": {},
   "outputs": [
    {
     "name": "stdout",
     "output_type": "stream",
     "text": [
      "env: https_proxy=http://172.16.2.250:3128\n"
     ]
    }
   ],
   "source": [
    "import urllib.request, sys\n",
    "from bs4 import BeautifulSoup\n",
    "import requests\n",
    "from time import sleep\n",
    "%env https_proxy=http://172.16.2.250:3128"
   ]
  },
  {
   "cell_type": "code",
   "execution_count": 38,
   "metadata": {},
   "outputs": [],
   "source": [
    "def scrape_from_page(url):\n",
    "    page = requests.get(url)\n",
    "    soup = BeautifulSoup(page.content, \"html.parser\")\n",
    "\n",
    "    title = soup.find(\"h1\", {\"class\" : \"story-title\"}).get_text()\n",
    "    date = soup.time.attrs['datetime'][:10]\n",
    "    summary = soup.find(\"h2\", {\"class\" : \"story-description\"}).get_text()\n",
    "    content = \"\\n\".join([elt.text for elt in soup.find(\"div\", {\"class\" : \"story-container\"}).find_all(\"p\") if not (\"READ:\" in elt.text)])\n",
    "\n",
    "    return [title, date, url, summary, content]"
   ]
  },
  {
   "cell_type": "code",
   "execution_count": 16,
   "metadata": {},
   "outputs": [],
   "source": [
    "def get_topic_pages(page):\n",
    "    soup = BeautifulSoup(page.content, \"html.parser\")\n",
    "    urls = [elt.find(\"a\")[\"href\"] for elt in soup.find_all(\"article\", {\"class\" : \"channel-card\"})]\n",
    "    return(urls)"
   ]
  },
  {
   "cell_type": "code",
   "execution_count": 17,
   "metadata": {},
   "outputs": [],
   "source": [
    "def scrape(page_no, category):\n",
    "    URL = f\"https://www.republicworld.com//technology-news/science/page-{page_no}\"\n",
    "    url_list = get_topic_pages(requests.get(URL))\n",
    "    sleep(1)\n",
    "\n",
    "    data = []\n",
    "\n",
    "    for url in url_list:\n",
    "        data.append(scrape_from_page(url))\n",
    "        sleep(1)\n",
    "\n",
    "    return data"
   ]
  },
  {
   "cell_type": "code",
   "execution_count": null,
   "metadata": {},
   "outputs": [],
   "source": [
    "def scrape_loop(start_pg, end_pg, category, subcategory):\n",
    "    data = []\n",
    "    for pg in range(start_pg, end_pg):\n",
    "        data += scrape(pg, category, subcategory)\n",
    "        \n",
    "    return data"
   ]
  }
 ],
 "metadata": {
  "interpreter": {
   "hash": "b3ba2566441a7c06988d0923437866b63cedc61552a5af99d1f4fb67d367b25f"
  },
  "kernelspec": {
   "display_name": "Python 3.9.7 ('base')",
   "language": "python",
   "name": "python3"
  },
  "language_info": {
   "codemirror_mode": {
    "name": "ipython",
    "version": 3
   },
   "file_extension": ".py",
   "mimetype": "text/x-python",
   "name": "python",
   "nbconvert_exporter": "python",
   "pygments_lexer": "ipython3",
   "version": "3.9.7"
  },
  "orig_nbformat": 4
 },
 "nbformat": 4,
 "nbformat_minor": 2
}
