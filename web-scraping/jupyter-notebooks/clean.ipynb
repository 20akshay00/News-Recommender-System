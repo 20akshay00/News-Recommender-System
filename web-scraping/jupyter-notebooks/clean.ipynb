{
 "cells": [
  {
   "cell_type": "code",
   "execution_count": 2,
   "metadata": {},
   "outputs": [],
   "source": [
    "import sqlite3\n",
    "import pandas as pd\n",
    "import re"
   ]
  },
  {
   "cell_type": "code",
   "execution_count": 3,
   "metadata": {},
   "outputs": [],
   "source": [
    "db_in_name = \"news-db2.sqlite\"\n",
    "db_out_name = \"news-db2_.sqlite\"\n",
    "tb_name = \"articles\""
   ]
  },
  {
   "cell_type": "code",
   "execution_count": 4,
   "metadata": {},
   "outputs": [],
   "source": [
    "conn = sqlite3.connect(db_in_name)"
   ]
  },
  {
   "cell_type": "code",
   "execution_count": 5,
   "metadata": {},
   "outputs": [],
   "source": [
    "df = pd.read_sql_query(\"SELECT * FROM articles\", conn)\n",
    "conn.close()"
   ]
  },
  {
   "cell_type": "code",
   "execution_count": 6,
   "metadata": {},
   "outputs": [
    {
     "name": "stderr",
     "output_type": "stream",
     "text": [
      "C:\\Users\\saksh\\AppData\\Local\\Temp/ipykernel_17660/346720223.py:2: SettingWithCopyWarning: \n",
      "A value is trying to be set on a copy of a slice from a DataFrame\n",
      "\n",
      "See the caveats in the documentation: https://pandas.pydata.org/pandas-docs/stable/user_guide/indexing.html#returning-a-view-versus-a-copy\n",
      "  df[\"content\"][i] = re.sub(\"English version.*\", \" \", df[\"content\"][i])\n",
      "C:\\Users\\saksh\\AppData\\Local\\Temp/ipykernel_17660/346720223.py:3: SettingWithCopyWarning: \n",
      "A value is trying to be set on a copy of a slice from a DataFrame\n",
      "\n",
      "See the caveats in the documentation: https://pandas.pydata.org/pandas-docs/stable/user_guide/indexing.html#returning-a-view-versus-a-copy\n",
      "  df[\"content\"][i] = \"\\n\".join([elt for elt in df[\"content\"][i].split(\"\\n\") if not any([(word in elt) for word in [\"READ\", \"Also Read\", \"twitter\", \"Disclaimer\", \"Image\"]])])\n"
     ]
    }
   ],
   "source": [
    "for i in range(df.shape[0]):\n",
    "    df[\"content\"][i] = re.sub(\"English version.*\", \" \", df[\"content\"][i])\n",
    "    df[\"content\"][i] = \"\\n\".join([elt for elt in df[\"content\"][i].split(\"\\n\") if not any([(word in elt) for word in [\"READ\", \"Also Read\", \"twitter\", \"Disclaimer\", \"Image\", \"IMAGE\"]])])"
   ]
  },
  {
   "cell_type": "code",
   "execution_count": 7,
   "metadata": {},
   "outputs": [],
   "source": [
    "conn = sqlite3.connect(db_out_name)\n",
    "df.to_sql(tb_name, conn, if_exists=\"replace\")\n",
    "conn.close()"
   ]
  },
  {
   "cell_type": "code",
   "execution_count": null,
   "metadata": {},
   "outputs": [],
   "source": []
  }
 ],
 "metadata": {
  "interpreter": {
   "hash": "b3ba2566441a7c06988d0923437866b63cedc61552a5af99d1f4fb67d367b25f"
  },
  "kernelspec": {
   "display_name": "Python 3.9.7 ('base')",
   "language": "python",
   "name": "python3"
  },
  "language_info": {
   "codemirror_mode": {
    "name": "ipython",
    "version": 3
   },
   "file_extension": ".py",
   "mimetype": "text/x-python",
   "name": "python",
   "nbconvert_exporter": "python",
   "pygments_lexer": "ipython3",
   "version": "3.9.7"
  },
  "orig_nbformat": 4
 },
 "nbformat": 4,
 "nbformat_minor": 2
}
