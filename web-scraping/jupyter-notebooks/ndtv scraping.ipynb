{
 "cells": [
  {
   "cell_type": "code",
   "execution_count": 5,
   "metadata": {},
   "outputs": [],
   "source": [
    "import urllib.request, sys\n",
    "from bs4 import BeautifulSoup\n",
    "import requests\n",
    "from time import sleep"
   ]
  },
  {
   "cell_type": "code",
   "execution_count": 6,
   "metadata": {},
   "outputs": [],
   "source": [
    "def scrape_from_page(url):\n",
    "    page = requests.get(url)\n",
    "    soup = BeautifulSoup(page.content, \"html.parser\")\n",
    "\n",
    "    title = soup.find(\"h1\", class_ = \"sp-ttl\").get_text()\n",
    "    date = soup.find(\"span\", {'itemprop':'dateModified'}).attrs['content'][:10]\n",
    "    summary = soup.find(\"h2\", class_ = \"sp-descp\").get_text()\n",
    "    content = \"\".join([elt.text for elt in soup.find_all(\"p\")])[:-307]\n",
    "\n",
    "    return [title, date, url, summary, content]"
   ]
  },
  {
   "cell_type": "code",
   "execution_count": 7,
   "metadata": {},
   "outputs": [],
   "source": [
    "def get_topic_pages(page):\n",
    "    soup = BeautifulSoup(page.content, \"html.parser\")\n",
    "    urls = list(set([elt.find(\"a\")[\"href\"] for elt in soup.find_all(\"div\", class_='news_Itm-cont')]))\n",
    "    return(urls)"
   ]
  },
  {
   "cell_type": "code",
   "execution_count": 8,
   "metadata": {},
   "outputs": [],
   "source": [
    "def scrape(page_no, category, subcategory):\n",
    "    URL = f\"https://www.ndtv.com/{category}/{subcategory}/page-{page_no}\"\n",
    "    url_list = get_topic_pages(requests.get(URL))\n",
    "    sleep(1)\n",
    "\n",
    "    data = []\n",
    "\n",
    "    for url in url_list:\n",
    "        data.append(scrape_from_page(url))\n",
    "        sleep(1)\n",
    "\n",
    "    return data"
   ]
  },
  {
   "cell_type": "code",
   "execution_count": 9,
   "metadata": {},
   "outputs": [],
   "source": [
    "def scrape_loop(start_pg, end_pg, category, subcategory):\n",
    "    data = []\n",
    "    for pg in range(start_pg, end_pg):\n",
    "        data += scrape(pg, category, subcategory)\n",
    "        \n",
    "    return data"
   ]
  },
  {
   "cell_type": "code",
   "execution_count": null,
   "metadata": {},
   "outputs": [],
   "source": [
    "dt = scrape_loop(1, 4, )"
   ]
  }
 ],
 "metadata": {
  "kernelspec": {
   "display_name": "Python 3 (ipykernel)",
   "language": "python",
   "name": "python3"
  },
  "language_info": {
   "codemirror_mode": {
    "name": "ipython",
    "version": 3
   },
   "file_extension": ".py",
   "mimetype": "text/x-python",
   "name": "python",
   "nbconvert_exporter": "python",
   "pygments_lexer": "ipython3",
   "version": "3.9.7"
  }
 },
 "nbformat": 4,
 "nbformat_minor": 4
}
