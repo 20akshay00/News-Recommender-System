{
 "cells": [
  {
   "cell_type": "code",
   "execution_count": 2,
   "metadata": {},
   "outputs": [
    {
     "name": "stdout",
     "output_type": "stream",
     "text": [
      "env: https_proxy=http://172.16.2.250:3128\n"
     ]
    }
   ],
   "source": [
    "%env https_proxy=http://172.16.2.250:3128"
   ]
  },
  {
   "cell_type": "code",
   "execution_count": 3,
   "metadata": {
    "colab": {
     "base_uri": "https://localhost:8080/",
     "height": 354
    },
    "id": "wQB7IKO7jV7I",
    "outputId": "c1da0f1d-772e-4512-8afd-47fa0c960377"
   },
   "outputs": [],
   "source": [
    "from bs4 import BeautifulSoup\n",
    "import requests\n",
    "from time import sleep"
   ]
  },
  {
   "cell_type": "code",
   "execution_count": 14,
   "metadata": {
    "id": "DC9Q4ZKtmkEU"
   },
   "outputs": [],
   "source": [
    "def scrape_from_page(url, category):\n",
    "    page = requests.get(url)\n",
    "    soup = BeautifulSoup(page.content, 'html.parser')    \n",
    "    title = soup.find(\"header\", {\"class\" : \"article-title\"}).find(\"h1\").get_text()\n",
    "    content = \" \".join([elt.get_text() for elt in soup.find(\"div\", {\"id\" : \"article_content\"}).find_all(\"p\")])\n",
    "    summary = soup.find(\"h2\", {\"class\" : \"subline\"}).get_text()\n",
    "    date = soup.time.attrs['datetime'][:10]\n",
    "\n",
    "    return [title, date, url, category, summary, content]"
   ]
  },
  {
   "cell_type": "code",
   "execution_count": 5,
   "metadata": {
    "id": "0e3J1lE7qGGH"
   },
   "outputs": [],
   "source": [
    "def get_topic_pages(page):\n",
    "    soup = BeautifulSoup(page.content, 'html.parser')\n",
    "    urls = list(set([elt[\"href\"] for elt in soup.find(\"section\", {\"id\" : \"repo-list\"}).find_all(\"a\")]))\n",
    "    return urls"
   ]
  },
  {
   "cell_type": "code",
   "execution_count": 15,
   "metadata": {
    "id": "2yMRJKKZu5A7"
   },
   "outputs": [],
   "source": [
    "def scrape(page_no, topic):\n",
    "    URL = f\"https://www.ibtimes.co.in/{topic}/page/{page_no}\"\n",
    "    url_list = get_topic_pages(requests.get(URL))\n",
    "    sleep(1)\n",
    "\n",
    "    data = []\n",
    "\n",
    "    for url in url_list:\n",
    "        dt = scrape_from_page(url, topic)\n",
    "        if (dt):\n",
    "            data.append(dt)\n",
    "            sleep(1)\n",
    "\n",
    "    return data"
   ]
  },
  {
   "cell_type": "code",
   "execution_count": 16,
   "metadata": {},
   "outputs": [],
   "source": [
    "def scrape_loop(start_pg, end_pg, topic):\n",
    "    data = []\n",
    "    for pg in range(start_pg, end_pg):\n",
    "        data += scrape(pg, topic)\n",
    "        \n",
    "    return data"
   ]
  },
  {
   "cell_type": "code",
   "execution_count": 17,
   "metadata": {
    "id": "mEP9pMravyiJ"
   },
   "outputs": [],
   "source": [
    "dt = scrape_loop(2, 3, \"science\")"
   ]
  },
  {
   "cell_type": "code",
   "execution_count": 32,
   "metadata": {},
   "outputs": [],
   "source": [
    "# 120 articles in 3 mins. - 10 pages\n",
    "#  40 articles in 1 min."
   ]
  }
 ],
 "metadata": {
  "colab": {
   "collapsed_sections": [],
   "name": "IBTimes webscraping",
   "provenance": []
  },
  "kernelspec": {
   "display_name": "Python 3 (ipykernel)",
   "language": "python",
   "name": "python3"
  },
  "language_info": {
   "codemirror_mode": {
    "name": "ipython",
    "version": 3
   },
   "file_extension": ".py",
   "mimetype": "text/x-python",
   "name": "python",
   "nbconvert_exporter": "python",
   "pygments_lexer": "ipython3",
   "version": "3.9.7"
  }
 },
 "nbformat": 4,
 "nbformat_minor": 1
}
