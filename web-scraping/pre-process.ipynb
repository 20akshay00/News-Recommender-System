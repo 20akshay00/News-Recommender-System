{
 "cells": [
  {
   "cell_type": "code",
   "execution_count": 1,
   "metadata": {},
   "outputs": [
    {
     "name": "stdout",
     "output_type": "stream",
     "text": [
      "env: https_proxy=http://172.16.2.250:3128\n"
     ]
    },
    {
     "name": "stderr",
     "output_type": "stream",
     "text": [
      "[nltk_data] Downloading package wordnet to\n",
      "[nltk_data]     C:\\Users\\saksh\\AppData\\Roaming\\nltk_data...\n",
      "[nltk_data]   Package wordnet is already up-to-date!\n",
      "[nltk_data] Downloading package stopwords to\n",
      "[nltk_data]     C:\\Users\\saksh\\AppData\\Roaming\\nltk_data...\n",
      "[nltk_data]   Package stopwords is already up-to-date!\n"
     ]
    }
   ],
   "source": [
    "%env https_proxy=http://172.16.2.250:3128\n",
    "import sqlite3\n",
    "import pandas as pd\n",
    "import nltk\n",
    "from nltk.corpus import stopwords\n",
    "# remove punctuation\n",
    "import string \n",
    "stop_words = set(stopwords.words(\"english\"))\n",
    "import re\n",
    "\n",
    "nltk.download('wordnet')\n",
    "nltk.download('stopwords')\n",
    "from nltk.stem import WordNetLemmatizer \n",
    "\n",
    "# import spacy\n",
    "# nlp = spacy.load('en_core_web_lg')"
   ]
  },
  {
   "cell_type": "code",
   "execution_count": 2,
   "metadata": {},
   "outputs": [],
   "source": [
    "db_in_name = \"news-db.sqlite\"\n",
    "tb_name = \"articles\""
   ]
  },
  {
   "cell_type": "code",
   "execution_count": 3,
   "metadata": {},
   "outputs": [],
   "source": [
    "conn = sqlite3.connect(db_in_name)"
   ]
  },
  {
   "cell_type": "code",
   "execution_count": 4,
   "metadata": {},
   "outputs": [],
   "source": [
    "df = pd.read_sql_query(\"SELECT * FROM articles\", conn)\n",
    "conn.close()"
   ]
  },
  {
   "cell_type": "code",
   "execution_count": 7,
   "metadata": {},
   "outputs": [],
   "source": [
    "def clean_up(txt):\n",
    "    txt_without_stop_words = \" \".join([word for word in txt.lower().split() if word not in stop_words])\n",
    "    txt_without_punct = \"\".join([ch for ch in txt_without_stop_words if ch not in set(string.punctuation)])\n",
    "    return re.sub(\" +\", \" \", re.sub(\"\\d\", \"\", re.sub(\"[^\\w\\s]\", \"\", txt_without_punct)))"
   ]
  },
  {
   "cell_type": "code",
   "execution_count": 8,
   "metadata": {},
   "outputs": [],
   "source": [
    "# df.to_sql(\"articles_processed\", conn, if_exists=\"replace\")"
   ]
  },
  {
   "cell_type": "code",
   "execution_count": 9,
   "metadata": {},
   "outputs": [
    {
     "data": {
      "text/plain": [
       "'global coronavirus caseload topped million deaths surged million vaccinations billion according johns hopkins university latest update wednesday morning universitys center systems science engineering csse revealed current global caseload death toll stood respectively total number vaccine doses administered increased us continues worsthit country worlds highest number cases deaths according csse second worst hit country terms cases india infections deaths followed brazil infections deaths south korea reports k cases south koreas daily number covid cases hit record high amid spread omicron variant virus health authorities said wednesday according korea disease control prevention agency kdca country reported confirmed cases past hours raising total tally daily caseload previous day topping first time country xinhua news agency reported countries million cases france uk russia turkey germany italy spain argentina iran colombia netherlands poland mexico csse figures showed nations death toll russia mexico peru uk italy indonesia colombia france iran argentina germany ukraine poland '"
      ]
     },
     "execution_count": 9,
     "metadata": {},
     "output_type": "execute_result"
    }
   ],
   "source": [
    "clean_up(df[\"content\"][100])"
   ]
  },
  {
   "cell_type": "code",
   "execution_count": null,
   "metadata": {},
   "outputs": [],
   "source": []
  }
 ],
 "metadata": {
  "interpreter": {
   "hash": "b3ba2566441a7c06988d0923437866b63cedc61552a5af99d1f4fb67d367b25f"
  },
  "kernelspec": {
   "display_name": "Python 3.9.7 ('base')",
   "language": "python",
   "name": "python3"
  },
  "language_info": {
   "codemirror_mode": {
    "name": "ipython",
    "version": 3
   },
   "file_extension": ".py",
   "mimetype": "text/x-python",
   "name": "python",
   "nbconvert_exporter": "python",
   "pygments_lexer": "ipython3",
   "version": "3.9.7"
  },
  "orig_nbformat": 4
 },
 "nbformat": 4,
 "nbformat_minor": 2
}
