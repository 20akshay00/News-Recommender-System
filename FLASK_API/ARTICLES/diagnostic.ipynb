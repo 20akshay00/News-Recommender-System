{
 "cells": [
  {
   "cell_type": "code",
   "execution_count": 1,
   "metadata": {},
   "outputs": [],
   "source": [
    "import sqlite3\n",
    "import pandas as pd"
   ]
  },
  {
   "cell_type": "code",
   "execution_count": 6,
   "metadata": {},
   "outputs": [],
   "source": [
    "db_name = \"news-db.sqlite\"\n",
    "tb_in_name = \"articles\"\n",
    "tb_out1_name = \"articles_cleaned\"\n",
    "tb_out2_name = \"articles_processed\"\n",
    "# ----------------   \n",
    "\n",
    "conn = sqlite3.connect(db_name)\n",
    "df = pd.read_sql_query(f\"SELECT * FROM {tb_out1_name}\", conn)\n",
    "conn.close()"
   ]
  },
  {
   "cell_type": "code",
   "execution_count": 5,
   "metadata": {},
   "outputs": [
    {
     "data": {
      "text/plain": [
       "'usbased cyber security group claimed massive cyberespionage operation chinese governmentlinked cyber groups targeted least seven indian state load dispatch centers sldcs northern india centers responsible carrying realtime operations grid control electricity dispatch northern india usbased group recorded future said researchers noted targeting geographically concentrated north india in proximity disputed indiachina border ladakh although identify precise locations map targeted power infrastructure released group illustrated rough locations concentrated northern india shadowpad one backdoor tools used operation known originated contractors chinese ministry state security mss backdoor tool also closely associated chinas peoples liberation army pla incidentally backdoor operations took place border disengagement indian chinese armed forces started february detailed report published security firm notes attack likely operation make backdoor entries collect information indias power infrastructure future operations however mention immediate incident blackout these assets offer minimal value economic espionage traditional intelligence targets led us assess likely goal prepositioning network access support chinese strategic objectives recorded futures threat research division insikt group said according company statement group comprises analysts security researchers deep government law enforcement military intelligence agency experience although previous version attacks another chinese group reported february recent cyberespionage operations remained active past several months based available information estimated resources deployed operations remained active august march indian subsidiary multinational logistics company national emergency response system also targeted attacks researchers identify technical evidence attributing cyberattacks previously identified chinese redecho group hence categorised latest activity temporary group name threat activity group tag likelihood internet protocol ip cameras often used closecircuit televisions cctv networks internetoperated digital video recording dvr devices compromised operation chinese thirdparty digital cameras dvrs often inadequately secured researchers claim commandandcontrol infrastructure prolonged targeting mostly consists compromised internetfacing thirdparty dvr ip camera devices commandandcontrol servers associated compromised dvr ip cameras primarily geolocated taiwan south korea security experts advise use stronger measures including monitoring outbound traffic unusual servers operating thirdparty ip cameras dvr systems ensure software firmware associated iot devices dvrip camera systems kept date always change default passwords strong complex password turn twofactor authentication fa available possible avoid exposing devices directly internet recorded future said tensions india china escalated galwan valley clash eastern ladakh border standoff indian chinese militaries erupted may following violent clash pangong tso lake area following incident sides gradually enhanced deployment rushing tens thousands soldiers well heavy weaponry resulting increased tensions friction points several rounds militarylevel talks held deescalate tensions two countries later february defence minister rajnath singh informed sustained talks china led agreement disengagement north south banks pangong lake recently held th round talks india pressed early disengagement troops remaining friction points including resolution pending issues depsang bulge demchok march year national security advisor ajit doval chinese foreign minister wang yi discussed possibility complete disengagement indian chinese troops along borders two nations study suggested mumbai power outage said worst power failure decades may links india china border tensions report said mega mumbai power outage may result cyber attack china attempt give sign india press hard report cited new york times claimed indians chinese soldiers faceoff border malware injected control systems responsible electric supply across india notably first report hinted chinas cyberattack led mumbai power outage earlier reports india today said maharashtra cyber department suspected malware attack could behind power outage power outages primary cause said tripping padghabased load dispatch centre thane district'"
      ]
     },
     "execution_count": 5,
     "metadata": {},
     "output_type": "execute_result"
    }
   ],
   "source": [
    "df[\"content\"][1]"
   ]
  },
  {
   "cell_type": "code",
   "execution_count": null,
   "metadata": {},
   "outputs": [],
   "source": []
  }
 ],
 "metadata": {
  "interpreter": {
   "hash": "b3ba2566441a7c06988d0923437866b63cedc61552a5af99d1f4fb67d367b25f"
  },
  "kernelspec": {
   "display_name": "Python 3.9.7 ('base')",
   "language": "python",
   "name": "python3"
  },
  "language_info": {
   "codemirror_mode": {
    "name": "ipython",
    "version": 3
   },
   "file_extension": ".py",
   "mimetype": "text/x-python",
   "name": "python",
   "nbconvert_exporter": "python",
   "pygments_lexer": "ipython3",
   "version": "3.9.7"
  },
  "orig_nbformat": 4
 },
 "nbformat": 4,
 "nbformat_minor": 2
}
