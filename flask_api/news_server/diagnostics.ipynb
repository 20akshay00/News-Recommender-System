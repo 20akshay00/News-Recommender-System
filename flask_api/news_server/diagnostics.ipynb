{
 "cells": [
  {
   "cell_type": "code",
   "execution_count": 1,
   "metadata": {},
   "outputs": [],
   "source": [
    "import sqlite3\n",
    "import numpy as np"
   ]
  },
  {
   "cell_type": "code",
   "execution_count": 2,
   "metadata": {},
   "outputs": [],
   "source": [
    "conn = sqlite3.connect(\"news-db.sqlite\")"
   ]
  },
  {
   "cell_type": "code",
   "execution_count": 27,
   "metadata": {},
   "outputs": [],
   "source": [
    "def get_user_dicts(cur, corpus_lengths):\n",
    "  user_ids = [elt[0] for elt in cur.execute(\"SELECT DISTINCT user_id from session_log\").fetchall()]\n",
    "  user_data = {user: [elt for elt in cur.execute(f\"SELECT article_id, time_spent, rating FROM session_log WHERE user_id == {0} AND rating IS NOT NULL GROUP BY article_id\").fetchall()] for user in user_ids}\n",
    "  user_doc_dict = {id:[elt[0] for elt in user_data[id]] for id in user_ids}\n",
    "  user_rating_dict = {id:[get_engagement(elt[1], corpus_lengths[elt[0]], elt[2]) for elt in user_data[id]] for id in user_ids}\n",
    "\n",
    "  return user_doc_dict, user_rating_dict"
   ]
  },
  {
   "cell_type": "code",
   "execution_count": 28,
   "metadata": {},
   "outputs": [],
   "source": [
    "def get_engagement(time, num_words, click, mean = 445, var = 60):\n",
    "    if click in [-1, 1]:\n",
    "        return click\n",
    "    else:\n",
    "        mean_t, std_t  = (1/mean * num_words) * 60, np.sqrt((1/var * num_words) * 60) # reading time in seconds \n",
    "        amp  = np.random.uniform(0.85, 0.95)\n",
    "        \n",
    "        if time <= mean_t: return amp * pow(np.e, -(time - mean_t)**2/(2 * std_t**2))\n",
    "        elif (mean_t < time) and time < (mean_t + 2 * std_t): return amp\n",
    "        else: return 0\n"
   ]
  },
  {
   "cell_type": "code",
   "execution_count": 29,
   "metadata": {},
   "outputs": [],
   "source": [
    "corpus = [elt[0] for elt in list(conn.cursor().execute(\"SELECT content from articles_processed\")) if not(elt[0] is None)]\n",
    "# note document lengths for estimating average reading time\n",
    "corpus_lengths = [len(doc) for doc in corpus]"
   ]
  },
  {
   "cell_type": "code",
   "execution_count": null,
   "metadata": {},
   "outputs": [],
   "source": [
    "conn.cursor().execute(\"SELECT content from articles_processed\")"
   ]
  },
  {
   "cell_type": "code",
   "execution_count": null,
   "metadata": {},
   "outputs": [],
   "source": []
  }
 ],
 "metadata": {
  "interpreter": {
   "hash": "b3ba2566441a7c06988d0923437866b63cedc61552a5af99d1f4fb67d367b25f"
  },
  "kernelspec": {
   "display_name": "Python 3.9.7 ('base')",
   "language": "python",
   "name": "python3"
  },
  "language_info": {
   "codemirror_mode": {
    "name": "ipython",
    "version": 3
   },
   "file_extension": ".py",
   "mimetype": "text/x-python",
   "name": "python",
   "nbconvert_exporter": "python",
   "pygments_lexer": "ipython3",
   "version": "3.9.7"
  },
  "orig_nbformat": 4
 },
 "nbformat": 4,
 "nbformat_minor": 2
}
